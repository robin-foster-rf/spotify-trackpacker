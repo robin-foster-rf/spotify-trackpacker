{
 "metadata": {
  "language_info": {
   "codemirror_mode": {
    "name": "ipython",
    "version": 3
   },
   "file_extension": ".py",
   "mimetype": "text/x-python",
   "name": "python",
   "nbconvert_exporter": "python",
   "pygments_lexer": "ipython3",
   "version": "3.6.4-final"
  },
  "orig_nbformat": 2,
  "kernelspec": {
   "name": "python_defaultSpec_1597354390352",
   "display_name": "Python 3.6.4 64-bit ('anaconda3': conda)"
  }
 },
 "nbformat": 4,
 "nbformat_minor": 2,
 "cells": [
  {
   "cell_type": "code",
   "execution_count": 2,
   "metadata": {},
   "outputs": [],
   "source": [
    "import sys\n",
    "import pandas as pd\n",
    "import matplotlib.pyplot as plt\n",
    "import numpy as np"
   ]
  },
  {
   "cell_type": "code",
   "execution_count": 3,
   "metadata": {
    "tags": []
   },
   "outputs": [
    {
     "output_type": "stream",
     "name": "stderr",
     "text": "ERROR:root:File `'spotipy_mwe.py'` not found.\n"
    }
   ],
   "source": [
    "%run spotipy_mwe.py"
   ]
  },
  {
   "cell_type": "code",
   "execution_count": 4,
   "metadata": {
    "tags": []
   },
   "outputs": [
    {
     "output_type": "stream",
     "name": "stdout",
     "text": "Volume in drive D is DATA\n Volume Serial Number is EA6E-8388\n\n Directory of D:\\apps\\Microsoft VS Code\n\n08/13/2020  07:35 PM    <DIR>          .\n08/13/2020  07:35 PM    <DIR>          ..\n08/13/2020  07:35 PM    <DIR>          _\n08/11/2020  03:00 PM    <DIR>          bin\n07/23/2020  01:13 PM           177,830 chrome_100_percent.pak\n07/23/2020  01:13 PM           315,644 chrome_200_percent.pak\n07/23/2020  01:32 PM       100,537,728 Code.exe\n07/23/2020  01:12 PM               342 Code.VisualElementsManifest.xml\n07/23/2020  01:31 PM         4,491,096 d3dcompiler_47.dll\n07/23/2020  01:31 PM         1,852,792 ffmpeg.dll\n07/23/2020  01:13 PM        10,427,216 icudtl.dat\n07/23/2020  01:31 PM           150,392 libEGL.dll\n07/23/2020  01:31 PM         7,740,280 libGLESv2.dll\n08/11/2020  03:00 PM    <DIR>          locales\n07/23/2020  01:13 PM            82,118 natives_blob.bin\n06/20/2020  04:31 PM    <DIR>          resources\n07/23/2020  01:13 PM         8,558,612 resources.pak\n07/23/2020  01:13 PM           280,424 snapshot_blob.bin\n08/11/2020  03:00 PM    <DIR>          swiftshader\n08/13/2020  07:35 PM    <DIR>          tools\n08/13/2020  07:35 PM         3,800,433 unins000.dat\n08/13/2020  07:35 PM         2,627,960 unins000.exe\n08/13/2020  07:35 PM            23,365 unins000.msg\n07/23/2020  01:13 PM           701,496 v8_context_snapshot.bin\n              16 File(s)    141,767,728 bytes\n               8 Dir(s)  513,085,689,856 bytes free\n"
    }
   ],
   "source": [
    "ls"
   ]
  },
  {
   "cell_type": "code",
   "execution_count": null,
   "metadata": {},
   "outputs": [],
   "source": []
  }
 ]
}